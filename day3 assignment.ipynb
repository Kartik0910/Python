{
 "cells": [
  {
   "cell_type": "code",
   "execution_count": 2,
   "id": "af9ca3f8",
   "metadata": {},
   "outputs": [],
   "source": [
    "#Write a Python program that asks the user to enter their age and then prints \"You are a minor\" if their age is less than 18, \"You are an adult\" if their age is greater than or equal to 18 and less than 65, and \"You are a senior\" if their age is 65 or greater"
   ]
  },
  {
   "cell_type": "code",
   "execution_count": 1,
   "id": "f7a8ccaa",
   "metadata": {},
   "outputs": [
    {
     "name": "stdout",
     "output_type": "stream",
     "text": [
      "enter your age25\n"
     ]
    }
   ],
   "source": [
    "age=int(input(\"enter your age\"))\n",
    "if age<=18:\n",
    "    print(\"you are a minor\")\n",
    "elif age>=18: and age >65\n",
    "    print(\"you are an adult\")\n",
    "else print*\"\"\n"
   ]
  },
  {
   "cell_type": "code",
   "execution_count": null,
   "id": "777ed02d",
   "metadata": {},
   "outputs": [],
   "source": []
  }
 ],
 "metadata": {
  "kernelspec": {
   "display_name": "Python 3 (ipykernel)",
   "language": "python",
   "name": "python3"
  },
  "language_info": {
   "codemirror_mode": {
    "name": "ipython",
    "version": 3
   },
   "file_extension": ".py",
   "mimetype": "text/x-python",
   "name": "python",
   "nbconvert_exporter": "python",
   "pygments_lexer": "ipython3",
   "version": "3.9.12"
  }
 },
 "nbformat": 4,
 "nbformat_minor": 5
}
